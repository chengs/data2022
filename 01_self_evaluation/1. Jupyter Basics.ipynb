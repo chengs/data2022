{
 "cells": [
  {
   "cell_type": "code",
   "execution_count": 6,
   "id": "995b4bdb",
   "metadata": {},
   "outputs": [],
   "source": [
    "# 写文件\n",
    "with open('data/example.txt', 'w') as o:\n",
    "    o.write('hello,world')"
   ]
  },
  {
   "cell_type": "code",
   "execution_count": 7,
   "id": "24e98282",
   "metadata": {},
   "outputs": [
    {
     "name": "stdout",
     "output_type": "stream",
     "text": [
      "['hello,world']\n"
     ]
    }
   ],
   "source": [
    "# 读文件\n",
    "with open('data/example.txt', 'r') as r:\n",
    "    print(r.readlines())"
   ]
  },
  {
   "cell_type": "code",
   "execution_count": 8,
   "id": "a1bda094",
   "metadata": {},
   "outputs": [
    {
     "data": {
      "text/plain": [
       "'/Users/guchen/Desktop/大数据挖掘/self-evalutation'"
      ]
     },
     "execution_count": 8,
     "metadata": {},
     "output_type": "execute_result"
    }
   ],
   "source": [
    "# 当前工作目录\n",
    "%pwd"
   ]
  },
  {
   "cell_type": "code",
   "execution_count": 9,
   "id": "5b279492",
   "metadata": {},
   "outputs": [
    {
     "data": {
      "text/plain": [
       "'/Users/guchen/Desktop/大数据挖掘/self-evalutation'"
      ]
     },
     "execution_count": 9,
     "metadata": {},
     "output_type": "execute_result"
    }
   ],
   "source": [
    "# 当前工作目录 另一种方法\n",
    "import os\n",
    "os.getcwd()"
   ]
  },
  {
   "cell_type": "code",
   "execution_count": 10,
   "id": "260b05f6",
   "metadata": {},
   "outputs": [
    {
     "name": "stdout",
     "output_type": "stream",
     "text": [
      "hello,world"
     ]
    }
   ],
   "source": [
    "# 查看文件\n",
    "!head 'data/example.txt'"
   ]
  },
  {
   "cell_type": "code",
   "execution_count": 11,
   "id": "7dbf6d60",
   "metadata": {},
   "outputs": [
    {
     "name": "stdout",
     "output_type": "stream",
     "text": [
      "hello,world"
     ]
    }
   ],
   "source": [
    "# 查看文件 注意path的用法\n",
    "path = 'data/example.txt'\n",
    "!head {path}"
   ]
  },
  {
   "cell_type": "code",
   "execution_count": 16,
   "id": "9fe30599",
   "metadata": {},
   "outputs": [
    {
     "name": "stdout",
     "output_type": "stream",
     "text": [
      "total 744\r\n",
      "-rw-r--r--  1 guchen  staff    11B Sep 25 11:47 example.txt\r\n",
      "-rwxr-xr-x@ 1 guchen  staff   365K Oct 14  2021 \u001b[31mmushrooms.csv\u001b[m\u001b[m\r\n"
     ]
    }
   ],
   "source": [
    "# 列目录\n",
    "!ls -lh data"
   ]
  },
  {
   "cell_type": "code",
   "execution_count": 17,
   "id": "ce058afc",
   "metadata": {},
   "outputs": [],
   "source": [
    "# 删除文件\n",
    "!rm data/example.txt"
   ]
  },
  {
   "cell_type": "code",
   "execution_count": 18,
   "id": "97cd4d72",
   "metadata": {},
   "outputs": [],
   "source": [
    "from time import sleep\n",
    "def func():\n",
    "    sleep(1)"
   ]
  },
  {
   "cell_type": "code",
   "execution_count": 19,
   "id": "4de4cc5c",
   "metadata": {},
   "outputs": [
    {
     "name": "stdout",
     "output_type": "stream",
     "text": [
      "CPU times: user 1.5 ms, sys: 3.19 ms, total: 4.69 ms\n",
      "Wall time: 1 s\n"
     ]
    }
   ],
   "source": [
    "# 查看运行时间\n",
    "%time func()"
   ]
  },
  {
   "cell_type": "code",
   "execution_count": 20,
   "id": "e90715ab",
   "metadata": {},
   "outputs": [
    {
     "name": "stdout",
     "output_type": "stream",
     "text": [
      "hello\n"
     ]
    }
   ],
   "source": [
    "# 跑一个 python脚本\n",
    "%run task.py"
   ]
  },
  {
   "cell_type": "code",
   "execution_count": null,
   "id": "28a6c95c",
   "metadata": {},
   "outputs": [],
   "source": []
  }
 ],
 "metadata": {
  "kernelspec": {
   "display_name": "Python 3 (ipykernel)",
   "language": "python",
   "name": "python3"
  },
  "language_info": {
   "codemirror_mode": {
    "name": "ipython",
    "version": 3
   },
   "file_extension": ".py",
   "mimetype": "text/x-python",
   "name": "python",
   "nbconvert_exporter": "python",
   "pygments_lexer": "ipython3",
   "version": "3.9.10"
  }
 },
 "nbformat": 4,
 "nbformat_minor": 5
}
